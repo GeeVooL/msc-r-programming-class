{
 "cells": [
  {
   "cell_type": "markdown",
   "metadata": {},
   "source": [
    "# Data Processing and Security\n",
    "\n",
    "<img style=\"float: right;\" src=\"https://www.kozminski.edu.pl/sites/leon/files/favicon-192x192.png\" width=\"80\">\n",
    "\n",
    "## Class 1\n",
    "\n",
    "*Piotr Zegadło, November 10, 2021*\n",
    "\n",
    "### Why this format?\n",
    "\n",
    "Jupyter is a really popular format to do simple projects in. You can lay everything out nicely, with maximum readability for your readers, as well as for your own future reference. You can take notes here, too!\n",
    "\n",
    "JupyterLab is a new tool, a standalone application to manage your Notebooks. You can still use the typical browser interface - just go to the `Help` menu and pick `Launch Classic Notebook`.\n",
    "\n",
    "When we're at it, you can change your theme to Dark in `Settings` -> `JupyterLab Themes`. The `File` menu will enable you to open a new view of the same notebook or run an R terminal.\n",
    "\n",
    "### Quick testing\n",
    "\n",
    "Let's test the functionality. Just run the code in the box below. How? Try activating that box (cell) and then hitting \"Shift + Enter\"."
   ]
  },
  {
   "cell_type": "code",
   "execution_count": null,
   "metadata": {},
   "outputs": [],
   "source": [
    "print(\"Welcome to the class\")"
   ]
  },
  {
   "cell_type": "markdown",
   "metadata": {},
   "source": [
    "Now try adding your own code to the cell below and executing it."
   ]
  },
  {
   "cell_type": "code",
   "execution_count": null,
   "metadata": {},
   "outputs": [],
   "source": []
  },
  {
   "cell_type": "markdown",
   "metadata": {},
   "source": [
    "Try one more in the next cell. You can exit the cell you are in by switching from the Edit Mode to Command Mode. Just hit \"Esc\"."
   ]
  },
  {
   "cell_type": "code",
   "execution_count": null,
   "metadata": {},
   "outputs": [],
   "source": []
  },
  {
   "cell_type": "markdown",
   "metadata": {},
   "source": [
    "Having your code in the cells above, test 3 ways of running code in a cell: \"Shift + Enter\", \"Ctrl + Enter\", \"Alt + Enter\". What are the differences? Please explain in the cell below. You can easily edit the Markdown cell simply by double-clicking it."
   ]
  },
  {
   "cell_type": "markdown",
   "metadata": {},
   "source": [
    "* Shift+Enter\n",
    "    \n",
    "    This option runs the code in the cell and\n",
    "\n",
    "* Ctrl+Enter\n",
    "    \n",
    "    This option runs the code in the cell and\n",
    "\n",
    "* Alt+Enter\n",
    "    \n",
    "    This option runs the code in the cell and"
   ]
  },
  {
   "cell_type": "markdown",
   "metadata": {},
   "source": [
    "To revert the notebook to its original state, use the `Kernel` menu and `Restart Kernel and Clear All Outputs`. To show the final intended state of the notebook, use `Restart Kernel and Run All Cells`.\n",
    "\n",
    "To get more info on Jupyter Notebooks, you're welcome to check out a short LinkedIn Learning course: <https://www.linkedin.com/learning/introducing-jupyter>."
   ]
  },
  {
   "cell_type": "markdown",
   "metadata": {},
   "source": [
    "### Object type and class\n",
    "\n",
    "Let us revise the basics. This comes up all the time in data processing in R.\n",
    "\n",
    "#### 1. typeof\n",
    "\n",
    "Type is the type of the value of your data. Five basic ones exist."
   ]
  },
  {
   "cell_type": "code",
   "execution_count": null,
   "metadata": {},
   "outputs": [],
   "source": [
    "typeof(1)\n",
    "typeof(1L)\n",
    "typeof(1+0i)\n",
    "typeof(TRUE)\n",
    "typeof(\"one\")"
   ]
  },
  {
   "cell_type": "markdown",
   "metadata": {},
   "source": [
    "#### 2. class\n",
    "\n",
    "Class indicates a method of storing your data."
   ]
  },
  {
   "cell_type": "code",
   "execution_count": null,
   "metadata": {},
   "outputs": [],
   "source": [
    "class(1)\n",
    "class(1L)\n",
    "class(1+0i)\n",
    "class(TRUE)\n",
    "class(\"one\")"
   ]
  },
  {
   "cell_type": "markdown",
   "metadata": {},
   "source": [
    "In other words, `class()` gives you the class of an object, and `typeof()` gives you its internal type. The difference is not that apparent yet. It will become clearer later on."
   ]
  },
  {
   "cell_type": "markdown",
   "metadata": {},
   "source": [
    "### Larger objects: vector, matrix, array, list, data frame...\n",
    "\n",
    "All these objects serve to store single values (or simpler objects) within a single, larger one.\n",
    "\n",
    "#### Vector\n",
    "\n",
    "Vector is a single \"line\" of multiple values. It is often created using `c()`:"
   ]
  },
  {
   "cell_type": "code",
   "execution_count": null,
   "metadata": {},
   "outputs": [],
   "source": [
    "v <- c(1,2,3,4,5)\n",
    "v\n",
    "typeof(v)\n",
    "class(v)"
   ]
  },
  {
   "cell_type": "markdown",
   "metadata": {},
   "source": [
    "Vector cannot store more than 1 type, so it will coerce other values to the most general type."
   ]
  },
  {
   "cell_type": "code",
   "execution_count": null,
   "metadata": {},
   "outputs": [],
   "source": [
    "v <- c(TRUE,FALSE)\n",
    "typeof(v)\n",
    "v\n",
    "\n",
    "v <- c(TRUE,FALSE,1L)\n",
    "typeof(v)\n",
    "v\n",
    "\n",
    "v <- c(TRUE,FALSE,1L,1)\n",
    "typeof(v)\n",
    "v\n",
    "\n",
    "v <- c(TRUE,FALSE,1L,1, 1+0i)\n",
    "typeof(v)\n",
    "v\n",
    "\n",
    "v <- c(TRUE,FALSE,1L,1, 1+0i, \"one\")\n",
    "typeof(v)\n",
    "v"
   ]
  },
  {
   "cell_type": "markdown",
   "metadata": {},
   "source": [
    "#### Matrix\n",
    "\n",
    "Matrix is a collection of vectors of the same length, arranged into rows and columns."
   ]
  },
  {
   "cell_type": "code",
   "execution_count": null,
   "metadata": {},
   "outputs": [],
   "source": [
    "m <- matrix(0L,3,3)\n",
    "m\n",
    "typeof(m)\n",
    "class(m)"
   ]
  },
  {
   "cell_type": "markdown",
   "metadata": {},
   "source": [
    "Now the difference between type and class becomes more obvious. We are storing data of type `integer` inside an object of class `matrix`.\n",
    "\n",
    "However, similarly to a vector, a matrix cannot store mixed types of data and it will coerce. Let's create a matrix by binding 2 different vectors as columns with `cbind()`."
   ]
  },
  {
   "cell_type": "code",
   "execution_count": null,
   "metadata": {},
   "outputs": [],
   "source": [
    "v1 <- c(1,2,3,4)\n",
    "typeof(v1)\n",
    "v1\n",
    "\n",
    "v2 <- c(\"one\",\"two\",\"three\",\"four\")\n",
    "typeof(v2)\n",
    "v2\n",
    "\n",
    "m <- as.matrix(cbind(v1,v2))\n",
    "typeof(m)\n",
    "class(m)\n",
    "m\n"
   ]
  },
  {
   "cell_type": "markdown",
   "metadata": {},
   "source": [
    "#### Array\n",
    "\n",
    "Think of the array as a multi-dimensional matrix. What does that mean? Well, a matrix has 2 dimensions (rows and columns). With 3 dimensions, an array is a 3-dimensional data cube. However, an array can have n dimensions. Besides, like a matrix, array can only contain data of a single type.\n",
    "\n",
    "To imagine things better:\n",
    "\n",
    "* Vector is like a single line of text.\n",
    "\n",
    "* Matrix is a like a page full of text.\n",
    "\n",
    "* 3-dimensional array is like having multiple pages full of text in a book.\n",
    "\n",
    "* 4-dimensional array is like having multiple books.\n",
    "\n",
    "* 5-dimensional array is like having multiple shelves full of books in a single bookcase.\n",
    "\n",
    "* 6-dimensional array is like having multiple bookcases.\n",
    "\n",
    "* 7-dimensional array is like having multiple rooms with multiple bookcases in a library.\n",
    "\n",
    "* 8-dimensional array is like having multiple libraries in a city.\n",
    "\n",
    "* 9-dimensional array is like having multiple ...\n",
    "\n",
    "I don't need to go on further, do I?\n",
    "\n",
    "In business practice, 3-dimensional arrays can be useful. They are an intuitive way of presenting panel data. Such an array consists of multiple matrices. For example, imagine that a matrix contains sales data for all types of your products in three US states in January 2020."
   ]
  },
  {
   "cell_type": "code",
   "execution_count": null,
   "metadata": {},
   "outputs": [],
   "source": [
    "pencils <- c(320,543,78)\n",
    "pens <- c(123,2324,6)\n",
    "notebooks <- c(12,1212,4)\n",
    "rulers <- c(7,45,9)\n",
    "\n",
    "m1 <- rbind(pencils,pens,notebooks,rulers)\n",
    "colnames(m1) <- c(\"TX\",\"MA\",\"OR\")\n",
    "\n",
    "m1"
   ]
  },
  {
   "cell_type": "markdown",
   "metadata": {},
   "source": [
    "We can create another matrix like that, showing us the sales for February 2020."
   ]
  },
  {
   "cell_type": "code",
   "execution_count": null,
   "metadata": {},
   "outputs": [],
   "source": [
    "pencils <- c(534,440,112)\n",
    "pens <- c(687,1500,3)\n",
    "notebooks <- c(23,989,9)\n",
    "rulers <- c(3,23,2)\n",
    "\n",
    "m2 <- rbind(pencils,pens,notebooks,rulers)\n",
    "colnames(m2) <- c(\"TX\",\"MA\",\"OR\")\n",
    "\n",
    "m2"
   ]
  },
  {
   "cell_type": "markdown",
   "metadata": {},
   "source": [
    "Let us combine these two matrices into a 3-dimensional array. First dimension of that array will be the row of our `m1` or `m2` matrix - sales of a specific product. Second dimension of that array will be the column of our `m1` or `m2` matrix - the state where the sales occured.\n",
    "The third dimension of that array will be simply the number of the month. "
   ]
  },
  {
   "cell_type": "code",
   "execution_count": null,
   "metadata": {},
   "outputs": [],
   "source": [
    "a <- array(data = NA, dim = c(4,3,2), dimnames = \n",
    "           list(c(\"pencils\",\"pens\",\"notebooks\",\"rulers\"), \n",
    "                c(\"TX\",\"MA\",\"OR\"), \n",
    "                c(\"January\",\"February\")))\n",
    "a[,,1] <- m1\n",
    "a[,,2] <- m2\n",
    "\n",
    "a"
   ]
  },
  {
   "cell_type": "markdown",
   "metadata": {},
   "source": [
    "As you can see, displaying the 3-dimensional array just lists its values. But we can access the individual matrices in various cuts across dimensions like that:"
   ]
  },
  {
   "cell_type": "code",
   "execution_count": null,
   "metadata": {},
   "outputs": [],
   "source": [
    "a[,,1]\n",
    "a[,1,]\n",
    "a[1,,]"
   ]
  },
  {
   "cell_type": "markdown",
   "metadata": {},
   "source": [
    "##### Task 1\n",
    "\n",
    "What do the 3 matrices above exactly show us? Which sales data are they showing?"
   ]
  },
  {
   "cell_type": "markdown",
   "metadata": {},
   "source": []
  },
  {
   "cell_type": "markdown",
   "metadata": {},
   "source": [
    "#### List\n",
    "\n",
    "Lists are powerful objects in R. Their elements can be other objects -  vectors, matrices, arrays, plots, other objects, even other lists."
   ]
  },
  {
   "cell_type": "code",
   "execution_count": null,
   "metadata": {},
   "outputs": [],
   "source": [
    "a <- TRUE\n",
    "\n",
    "x <- 356\n",
    "\n",
    "y <- c(1,2,3,4)\n",
    "\n",
    "z <- c(\"one\",\"two\",\"three\",\"four\")\n",
    "\n",
    "m <- as.matrix(cbind(v1,v2))\n",
    "\n",
    "l <- list(a,x,y,z,m)\n",
    "\n",
    "l"
   ]
  },
  {
   "cell_type": "markdown",
   "metadata": {},
   "source": [
    "#### Data frame\n",
    "\n",
    "Let us now create a simple data frame."
   ]
  },
  {
   "cell_type": "code",
   "execution_count": null,
   "metadata": {},
   "outputs": [],
   "source": [
    "v1 <- c(1,2,3,4)\n",
    "typeof(v1)\n",
    "v1\n",
    "\n",
    "v2 <- c(\"one\",\"two\",\"three\",\"four\")\n",
    "typeof(v2)\n",
    "v2\n",
    "\n",
    "df <- data.frame(\"v1\" = v1, \"v2\" = v2)\n",
    "typeof(df)\n",
    "class(df)\n",
    "df"
   ]
  },
  {
   "cell_type": "markdown",
   "metadata": {},
   "source": [
    "As you can see, a data frame is actually a special case of a list.\n",
    "\n",
    "You might have also noticed that our `v2` column is treated as a yet another type of data: factor. How to avoid it?"
   ]
  },
  {
   "cell_type": "code",
   "execution_count": null,
   "metadata": {},
   "outputs": [],
   "source": [
    "df2 <- data.frame(\"v1\" = v1, \"v2\" = v2, stringsAsFactors=FALSE)\n",
    "df2"
   ]
  },
  {
   "cell_type": "markdown",
   "metadata": {},
   "source": [
    "Why do we need data frames? They are like matrices, but with two major differences.\n",
    "\n",
    "##### Task 2\n",
    "\n",
    "Tell me what are the differences between a data frame and a matrix. Demonstrate them with code."
   ]
  },
  {
   "cell_type": "markdown",
   "metadata": {},
   "source": []
  },
  {
   "cell_type": "code",
   "execution_count": null,
   "metadata": {},
   "outputs": [],
   "source": []
  },
  {
   "cell_type": "markdown",
   "metadata": {},
   "source": [
    "### Basic operations\n",
    "\n",
    "##### Task 3\n",
    "\n",
    "Let `x` be 15 and `y` be 27. \n",
    "\n",
    "* Make `z` to be their multiple.\n",
    "\n",
    "* What is the remainder of dividing `z` by 4?\n",
    "\n",
    "* Create a vector `v` containing all 3 aforementioned variables.\n",
    "\n",
    "* Calculate the average, median, maximum and minimum of `v`."
   ]
  },
  {
   "cell_type": "code",
   "execution_count": null,
   "metadata": {},
   "outputs": [],
   "source": []
  },
  {
   "cell_type": "markdown",
   "metadata": {},
   "source": [
    "##### Task 4\n",
    "\n",
    "* Create a new vector `w`, which is equal to `3*v`.\n",
    "\n",
    "* What is the result of element-by-element multiplication of `v` and `w`?\n",
    "\n",
    "* What is the result of matrix multiplication of `v` and `w`?\n",
    "\n",
    "* Create a dataframe with columns made up of vectors `v` and `w`. Name the columns `volume` and `weight`. Display the dataframe."
   ]
  },
  {
   "cell_type": "code",
   "execution_count": null,
   "metadata": {},
   "outputs": [],
   "source": []
  },
  {
   "cell_type": "markdown",
   "metadata": {},
   "source": [
    "### Referencing and subsetting\n",
    "\n",
    "With the provided vector, complete the following tasks.\n",
    "\n",
    "Use this page to help you when you get lost:\n",
    "https://swcarpentry.github.io/r-novice-gapminder/06-data-subsetting/"
   ]
  },
  {
   "cell_type": "code",
   "execution_count": null,
   "metadata": {},
   "outputs": [],
   "source": [
    "x <- c(3.5, 2.1, 5.7, 8.4, 9.0)"
   ]
  },
  {
   "cell_type": "markdown",
   "metadata": {},
   "source": [
    "##### Task 5\n",
    "\n",
    "Use single lines of code and no additional functions.\n",
    "\n",
    "* Pick the first number from the vector.\n",
    "\n",
    "* Pick the 3rd and 4th number from the vector.\n",
    "\n",
    "* Pick the 3rd and 5th number from the vector.\n",
    "\n",
    "* Pick the 2nd number twice."
   ]
  },
  {
   "cell_type": "code",
   "execution_count": null,
   "metadata": {},
   "outputs": [],
   "source": []
  },
  {
   "cell_type": "markdown",
   "metadata": {},
   "source": [
    "##### Task 6\n",
    "\n",
    "Use single lines of code and no additional functions.\n",
    "\n",
    "* Pick all but the 2nd number.\n",
    "\n",
    "* Pick all but the 2nd and 3rd number.\n",
    "\n",
    "* Pick all but the 2nd and 5th number."
   ]
  },
  {
   "cell_type": "code",
   "execution_count": null,
   "metadata": {},
   "outputs": [],
   "source": []
  },
  {
   "cell_type": "markdown",
   "metadata": {},
   "source": [
    "##### Task 7"
   ]
  },
  {
   "cell_type": "markdown",
   "metadata": {},
   "source": [
    "Use single lines of code and no additional functions.\n",
    "\n",
    "* Pick all elements larger than 5."
   ]
  },
  {
   "cell_type": "markdown",
   "metadata": {},
   "source": [
    "##### Task 8\n",
    "\n",
    "Using `mtcars` dataset, fix the mistakes in the attempts below."
   ]
  },
  {
   "cell_type": "code",
   "execution_count": null,
   "metadata": {},
   "outputs": [],
   "source": [
    "data(mtcars)"
   ]
  },
  {
   "cell_type": "markdown",
   "metadata": {},
   "source": [
    "Pick only those rows, where cyl is equal to 4"
   ]
  },
  {
   "cell_type": "code",
   "execution_count": null,
   "metadata": {},
   "outputs": [],
   "source": [
    "mtcars[mtcars$cyl = 4, ]"
   ]
  },
  {
   "cell_type": "code",
   "execution_count": null,
   "metadata": {},
   "outputs": [],
   "source": []
  },
  {
   "cell_type": "markdown",
   "metadata": {},
   "source": [
    "Pick all rows without rows 1 to 4"
   ]
  },
  {
   "cell_type": "code",
   "execution_count": null,
   "metadata": {},
   "outputs": [],
   "source": [
    "mtcars[-1:4, ]"
   ]
  },
  {
   "cell_type": "code",
   "execution_count": null,
   "metadata": {},
   "outputs": [],
   "source": []
  },
  {
   "cell_type": "markdown",
   "metadata": {},
   "source": [
    "Pick only rows with cyl less than 5"
   ]
  },
  {
   "cell_type": "code",
   "execution_count": null,
   "metadata": {},
   "outputs": [],
   "source": [
    "mtcars[mtcars$cyl <= 5]"
   ]
  },
  {
   "cell_type": "code",
   "execution_count": null,
   "metadata": {},
   "outputs": [],
   "source": []
  },
  {
   "cell_type": "markdown",
   "metadata": {},
   "source": [
    "Pick the rows were cylinders is between 4 and 6"
   ]
  },
  {
   "cell_type": "code",
   "execution_count": null,
   "metadata": {},
   "outputs": [],
   "source": [
    "mtcars[mtcars$cyl == 4 | 6, ]"
   ]
  },
  {
   "cell_type": "code",
   "execution_count": null,
   "metadata": {},
   "outputs": [],
   "source": []
  }
 ],
 "metadata": {
  "kernelspec": {
   "display_name": "R",
   "language": "R",
   "name": "ir"
  },
  "language_info": {
   "codemirror_mode": "r",
   "file_extension": ".r",
   "mimetype": "text/x-r-source",
   "name": "R",
   "pygments_lexer": "r",
   "version": "3.6.2"
  }
 },
 "nbformat": 4,
 "nbformat_minor": 4
}
